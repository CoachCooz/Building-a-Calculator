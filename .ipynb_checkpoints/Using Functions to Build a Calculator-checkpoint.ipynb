{
 "cells": [
  {
   "cell_type": "markdown",
   "metadata": {},
   "source": [
    "# Building a Calculator Using Functions"
   ]
  },
  {
   "cell_type": "markdown",
   "metadata": {},
   "source": [
    "This small project will be a demonstration on using the power of functions to build an effective calculator that can perform simple math equations quickly."
   ]
  },
  {
   "cell_type": "markdown",
   "metadata": {},
   "source": [
    "### 1.) Arithmetic Functions"
   ]
  },
  {
   "cell_type": "markdown",
   "metadata": {},
   "source": [
    "Addition Function"
   ]
  },
  {
   "cell_type": "code",
   "execution_count": 1,
   "metadata": {},
   "outputs": [],
   "source": [
    "def add(num1, num2):\n",
    "    return num1 + num2"
   ]
  },
  {
   "cell_type": "markdown",
   "metadata": {},
   "source": [
    "Subtraction Function"
   ]
  },
  {
   "cell_type": "code",
   "execution_count": 2,
   "metadata": {},
   "outputs": [],
   "source": [
    "def subtract(num1, num2):\n",
    "    return num1 - num2"
   ]
  },
  {
   "cell_type": "markdown",
   "metadata": {},
   "source": [
    "Multiplication Function"
   ]
  },
  {
   "cell_type": "code",
   "execution_count": 3,
   "metadata": {},
   "outputs": [],
   "source": [
    "def multiply(num1, num2):\n",
    "    return num1 * num2"
   ]
  },
  {
   "cell_type": "markdown",
   "metadata": {},
   "source": [
    "Division Function"
   ]
  },
  {
   "cell_type": "code",
   "execution_count": 4,
   "metadata": {},
   "outputs": [],
   "source": [
    "def divide(num1, num2):\n",
    "    return num1 / num2"
   ]
  },
  {
   "cell_type": "markdown",
   "metadata": {},
   "source": [
    "### 2.) Create Command Line Interface"
   ]
  },
  {
   "cell_type": "code",
   "execution_count": 5,
   "metadata": {},
   "outputs": [
    {
     "name": "stdout",
     "output_type": "stream",
     "text": [
      "Please select operation -\n",
      "1. Add\n",
      "2. Subtract\n",
      "3. Multiply\n",
      "4. Divide\n",
      "\n",
      "Select operations from 1, 2, 3, 4 :2\n",
      "Enter first number: 2\n",
      "Enter second number: 3\n",
      "2 - 3 = -1\n"
     ]
    }
   ],
   "source": [
    "# Print menu \n",
    "print('Please select operation -\\n' \\\n",
    "        '1. Add\\n' \\\n",
    "        '2. Subtract\\n' \\\n",
    "        '3. Multiply\\n' \\\n",
    "        '4. Divide\\n')\n",
    " \n",
    "select = input('Select operations from 1, 2, 3, 4 :')\n",
    " \n",
    "number_1 = int(input('Enter first number: '))\n",
    "number_2 = int(input('Enter second number: '))\n",
    "\n",
    "# Based on the operation, pass the numbers to function\n",
    "# Print the output\n",
    "if select == '1':\n",
    "    print(number_1, '+', number_2, '=',\n",
    "                    add(number_1, number_2))\n",
    " \n",
    "elif select == '2':\n",
    "    print(number_1, '-', number_2, '=',\n",
    "                    subtract(number_1, number_2))\n",
    " \n",
    "elif select == '3':\n",
    "    print(number_1, '*', number_2, '=',\n",
    "                    multiply(number_1, number_2))\n",
    " \n",
    "elif select == '4':\n",
    "    print(number_1, '/', number_2, '=',\n",
    "                    divide(number_1, number_2))\n",
    "# Print 'Invalid input' if an unexpected character is seen in input\n",
    "else:\n",
    "    print('Invalid input')"
   ]
  },
  {
   "cell_type": "code",
   "execution_count": 6,
   "metadata": {},
   "outputs": [
    {
     "name": "stdout",
     "output_type": "stream",
     "text": [
      "Select operations from 1, 2, 3, 4 :3\n",
      "Enter first number: 3\n",
      "Enter second number: 4\n",
      "3 * 4 = 12\n",
      "Continue? y/n:n\n"
     ]
    }
   ],
   "source": [
    "cont = 'y'\n",
    "\n",
    "# Check for input after each iteration\n",
    "while cont == 'y':\n",
    "\n",
    "        # Run code from previous step\n",
    "        \n",
    "        select = input('Select operations from 1, 2, 3, 4 :')\n",
    "     \n",
    "        number_1 = int(input('Enter first number: '))\n",
    "        number_2 = int(input('Enter second number: '))\n",
    " \n",
    "        if select == '1':\n",
    "            print(number_1, '+', number_2, '=',\n",
    "                    add(number_1, number_2))\n",
    " \n",
    "        elif select == '2':\n",
    "            print(number_1, '-', number_2, '=',\n",
    "                    subtract(number_1, number_2))\n",
    " \n",
    "        elif select == '3':\n",
    "            print(number_1, '*', number_2, '=',\n",
    "                    multiply(number_1, number_2))\n",
    " \n",
    "        elif select == '4':\n",
    "            print(number_1, '/', number_2, '=',\n",
    "                    divide(number_1, number_2))\n",
    "            \n",
    "        #Ask user for input if he/she wants to repeat \n",
    "        \n",
    "        cont = input('Continue? y/n:')\n",
    "        if cont == 'n':\n",
    "            break"
   ]
  },
  {
   "cell_type": "code",
   "execution_count": null,
   "metadata": {},
   "outputs": [],
   "source": []
  }
 ],
 "metadata": {
  "kernelspec": {
   "display_name": "Python 3",
   "language": "python",
   "name": "python3"
  },
  "language_info": {
   "codemirror_mode": {
    "name": "ipython",
    "version": 3
   },
   "file_extension": ".py",
   "mimetype": "text/x-python",
   "name": "python",
   "nbconvert_exporter": "python",
   "pygments_lexer": "ipython3",
   "version": "3.7.4"
  }
 },
 "nbformat": 4,
 "nbformat_minor": 2
}
